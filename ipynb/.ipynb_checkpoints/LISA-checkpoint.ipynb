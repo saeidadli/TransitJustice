{
 "cells": [
  {
   "cell_type": "code",
   "execution_count": 5,
   "metadata": {},
   "outputs": [],
   "source": [
    "import sys\n",
    "from pathlib import Path\n",
    "\n",
    "import pysal as ps\n",
    "import pandas as pd\n",
    "import numpy as np\n",
    "\n",
    "DIR = Path('..')\n",
    "sys.path.append(str(DIR))\n",
    "\n",
    "import arcgdfconvertor as agc\n",
    "\n",
    "\n",
    "DATA_DIR = DIR/'data/'\n",
    "OUT_DIR = DIR/'output/'\n",
    "\n",
    "%matplotlib inline\n",
    "%load_ext autoreload\n",
    "%autoreload 2"
   ]
  },
  {
   "cell_type": "code",
   "execution_count": 6,
   "metadata": {},
   "outputs": [
    {
     "data": {
      "text/html": [
       "<div>\n",
       "<style scoped>\n",
       "    .dataframe tbody tr th:only-of-type {\n",
       "        vertical-align: middle;\n",
       "    }\n",
       "\n",
       "    .dataframe tbody tr th {\n",
       "        vertical-align: top;\n",
       "    }\n",
       "\n",
       "    .dataframe thead th {\n",
       "        text-align: right;\n",
       "    }\n",
       "</style>\n",
       "<table border=\"1\" class=\"dataframe\">\n",
       "  <thead>\n",
       "    <tr style=\"text-align: right;\">\n",
       "      <th></th>\n",
       "      <th>Unique_ID</th>\n",
       "      <th>P_O_W</th>\n",
       "      <th>Pop_13</th>\n",
       "      <th>geometry</th>\n",
       "    </tr>\n",
       "  </thead>\n",
       "  <tbody>\n",
       "    <tr>\n",
       "      <th>0</th>\n",
       "      <td>1702</td>\n",
       "      <td>2706.587720</td>\n",
       "      <td>5319.747476</td>\n",
       "      <td>POINT (174.8431007160001 -36.93818277499997)</td>\n",
       "    </tr>\n",
       "    <tr>\n",
       "      <th>1</th>\n",
       "      <td>2256</td>\n",
       "      <td>722.692832</td>\n",
       "      <td>4248.653401</td>\n",
       "      <td>POINT (174.6190478430001 -36.82501927099997)</td>\n",
       "    </tr>\n",
       "    <tr>\n",
       "      <th>2</th>\n",
       "      <td>881</td>\n",
       "      <td>435.761948</td>\n",
       "      <td>319.772762</td>\n",
       "      <td>POINT (174.950870676 -37.10766933299993)</td>\n",
       "    </tr>\n",
       "    <tr>\n",
       "      <th>3</th>\n",
       "      <td>1306</td>\n",
       "      <td>454.474675</td>\n",
       "      <td>50.224659</td>\n",
       "      <td>POINT (174.8450838340001 -37.02033395099994)</td>\n",
       "    </tr>\n",
       "    <tr>\n",
       "      <th>4</th>\n",
       "      <td>1695</td>\n",
       "      <td>184.836135</td>\n",
       "      <td>1699.064978</td>\n",
       "      <td>POINT (174.6362817360001 -36.94121309999997)</td>\n",
       "    </tr>\n",
       "  </tbody>\n",
       "</table>\n",
       "</div>"
      ],
      "text/plain": [
       "  Unique_ID        P_O_W       Pop_13  \\\n",
       "0      1702  2706.587720  5319.747476   \n",
       "1      2256   722.692832  4248.653401   \n",
       "2       881   435.761948   319.772762   \n",
       "3      1306   454.474675    50.224659   \n",
       "4      1695   184.836135  1699.064978   \n",
       "\n",
       "                                       geometry  \n",
       "0  POINT (174.8431007160001 -36.93818277499997)  \n",
       "1  POINT (174.6190478430001 -36.82501927099997)  \n",
       "2      POINT (174.950870676 -37.10766933299993)  \n",
       "3  POINT (174.8450838340001 -37.02033395099994)  \n",
       "4  POINT (174.6362817360001 -36.94121309999997)  "
      ]
     },
     "execution_count": 6,
     "metadata": {},
     "output_type": "execute_result"
    }
   ],
   "source": [
    "in_gdf = agc.fc_to_gdf(str(DATA_DIR/'Raw_data.gdb'/'Auckland_Hex_Point'))\n",
    "in_gdf.head()"
   ]
  },
  {
   "cell_type": "code",
   "execution_count": null,
   "metadata": {},
   "outputs": [],
   "source": []
  }
 ],
 "metadata": {
  "kernelspec": {
   "display_name": "Python 3",
   "language": "python",
   "name": "python3"
  },
  "language_info": {
   "codemirror_mode": {
    "name": "ipython",
    "version": 3
   },
   "file_extension": ".py",
   "mimetype": "text/x-python",
   "name": "python",
   "nbconvert_exporter": "python",
   "pygments_lexer": "ipython3",
   "version": "3.6.2"
  }
 },
 "nbformat": 4,
 "nbformat_minor": 2
}
