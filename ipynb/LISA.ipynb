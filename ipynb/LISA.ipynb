{
 "cells": [
  {
   "cell_type": "code",
   "execution_count": 63,
   "metadata": {},
   "outputs": [
    {
     "name": "stdout",
     "output_type": "stream",
     "text": [
      "The autoreload extension is already loaded. To reload it, use:\n",
      "  %reload_ext autoreload\n"
     ]
    }
   ],
   "source": [
    "import sys\n",
    "from pathlib import Path\n",
    "import tempfile\n",
    "\n",
    "import pysal\n",
    "import pandas as pd\n",
    "import numpy as np\n",
    "\n",
    "DIR = Path('..')\n",
    "sys.path.append(str(DIR))\n",
    "\n",
    "import arcgdfconvertor as agc\n",
    "\n",
    "\n",
    "DATA_DIR = DIR/'data/'\n",
    "OUT_DIR = DIR/'output/'\n",
    "\n",
    "%matplotlib inline\n",
    "%load_ext autoreload\n",
    "%autoreload 2"
   ]
  },
  {
   "cell_type": "code",
   "execution_count": 75,
   "metadata": {},
   "outputs": [],
   "source": [
    "cities = [\n",
    "    'Auckland',\n",
    "    'Brisbane',\n",
    "    'Perth',\n",
    "    'Vancouver',\n",
    "]"
   ]
  },
  {
   "cell_type": "code",
   "execution_count": 87,
   "metadata": {},
   "outputs": [
    {
     "name": "stderr",
     "output_type": "stream",
     "text": [
      "C:\\Program Files\\ArcGIS\\Pro\\bin\\Python\\envs\\arcgispro-py3\\lib\\site-packages\\pysal\\weights\\weights.py:189: UserWarning: There are 4 disconnected observations\n",
      "  warnings.warn(\"There are %d disconnected observations\" % ni)\n",
      "C:\\Program Files\\ArcGIS\\Pro\\bin\\Python\\envs\\arcgispro-py3\\lib\\site-packages\\pysal\\weights\\weights.py:190: UserWarning: Island ids: 4, 132, 518, 543\n",
      "  warnings.warn(\"Island ids: %s\" % ', '.join(str(island) for island in self.islands))\n",
      "C:\\Program Files\\ArcGIS\\Pro\\bin\\Python\\envs\\arcgispro-py3\\lib\\site-packages\\pysal\\esda\\moran.py:1089: RuntimeWarning: invalid value encountered in true_divide\n",
      "  self.z_sim = (self.Is - self.EI_sim) / self.seI_sim\n",
      "C:\\Program Files\\ArcGIS\\Pro\\bin\\Python\\envs\\arcgispro-py3\\lib\\site-packages\\scipy\\stats\\_distn_infrastructure.py:879: RuntimeWarning: invalid value encountered in greater\n",
      "  return (self.a < x) & (x < self.b)\n",
      "C:\\Program Files\\ArcGIS\\Pro\\bin\\Python\\envs\\arcgispro-py3\\lib\\site-packages\\scipy\\stats\\_distn_infrastructure.py:879: RuntimeWarning: invalid value encountered in less\n",
      "  return (self.a < x) & (x < self.b)\n",
      "C:\\Program Files\\ArcGIS\\Pro\\bin\\Python\\envs\\arcgispro-py3\\lib\\site-packages\\scipy\\stats\\_distn_infrastructure.py:1735: RuntimeWarning: invalid value encountered in greater_equal\n",
      "  cond2 = (x >= self.b) & cond0\n"
     ]
    },
    {
     "name": "stdout",
     "output_type": "stream",
     "text": [
      "('WARNING: ', 4, ' is an island (no neighbors)')\n",
      "('WARNING: ', 132, ' is an island (no neighbors)')\n",
      "('WARNING: ', 518, ' is an island (no neighbors)')\n",
      "('WARNING: ', 543, ' is an island (no neighbors)')\n"
     ]
    },
    {
     "name": "stderr",
     "output_type": "stream",
     "text": [
      "C:\\Program Files\\ArcGIS\\Pro\\bin\\Python\\envs\\arcgispro-py3\\lib\\site-packages\\pysal\\weights\\weights.py:186: UserWarning: There is one disconnected observation (no neighbors)\n",
      "  warnings.warn(\"There is one disconnected observation (no neighbors)\")\n",
      "C:\\Program Files\\ArcGIS\\Pro\\bin\\Python\\envs\\arcgispro-py3\\lib\\site-packages\\pysal\\weights\\weights.py:187: UserWarning: Island id: 121\n",
      "  warnings.warn(\"Island id: %s\" % str(self.islands[0]))\n"
     ]
    },
    {
     "name": "stdout",
     "output_type": "stream",
     "text": [
      "('WARNING: ', 121, ' is an island (no neighbors)')\n"
     ]
    },
    {
     "name": "stderr",
     "output_type": "stream",
     "text": [
      "C:\\Program Files\\ArcGIS\\Pro\\bin\\Python\\envs\\arcgispro-py3\\lib\\site-packages\\pysal\\weights\\weights.py:189: UserWarning: There are 2 disconnected observations\n",
      "  warnings.warn(\"There are %d disconnected observations\" % ni)\n",
      "C:\\Program Files\\ArcGIS\\Pro\\bin\\Python\\envs\\arcgispro-py3\\lib\\site-packages\\pysal\\weights\\weights.py:190: UserWarning: Island ids: 15, 128\n",
      "  warnings.warn(\"Island ids: %s\" % ', '.join(str(island) for island in self.islands))\n"
     ]
    },
    {
     "name": "stdout",
     "output_type": "stream",
     "text": [
      "('WARNING: ', 15, ' is an island (no neighbors)')\n",
      "('WARNING: ', 128, ' is an island (no neighbors)')\n"
     ]
    }
   ],
   "source": [
    "hex_low_percentage_dict = dict()\n",
    "for city in cities:\n",
    "\n",
    "    #Read CSVs Dist_decay\n",
    "    access_df = pd.read_csv(\n",
    "        DATA_DIR/'OD_Summaries'/\"{0}_Hex_dist_decay_summary.csv\".format(city),\n",
    "        index_col=0, dtype = {'from': str})\n",
    "    census_gdf = agc.fc_to_gdf(\n",
    "        str(DATA_DIR/'Cities.gdb'/'{0}_Hex_Polygon'.format(city)))\n",
    "\n",
    "    cond = (census_gdf['Median_Income'] > 3) & (census_gdf['POP'] > 3) & (census_gdf['POW'] > 3)\n",
    "    census_gdf = census_gdf[cond].copy()\n",
    "\n",
    "    access_gdf = census_gdf.merge(\n",
    "        access_df, \n",
    "        left_on = 'Unique_ID', \n",
    "        right_on = 'from', \n",
    "        how = 'inner')\n",
    "    hex_total = access_gdf.shape[0]\n",
    "\n",
    "    # Calculate the weight\n",
    "    tmp_dir = tempfile.TemporaryDirectory() #make a temporary directory\n",
    "    p = Path(tmp_dir.name)\n",
    "    n = city + '.shp'\n",
    "    access_gdf[['Unique_ID', 'geometry']].to_file(str(p/n))  #make a temporary shapefile\n",
    "    w = ps.weights.Queen.from_shapefile(str(p/n))\n",
    "    tmp_dir.cleanup()  # Delete temporary directory\n",
    "\n",
    "    #Calculate X\n",
    "    x = np.array(access_gdf['Median_Income'])\n",
    "    \n",
    "    #Calculate Y\n",
    "    hex_low_percentage_list = list()\n",
    "    for i in range(20, 65, 5):\n",
    "        y = np.array(access_gdf['dist_decay_{0}'.format(i)])\n",
    "        lm = ps.esda.moran.Moran_Local_BV(x, y, w, transformation = \"r\",permutations = 99)\n",
    "        access_gdf['LISA_CL_{0}'.format(i)] = lm.q\n",
    "        access_gdf['LISA_P_{0}'.format(i)] = lm.p_sim\n",
    "        \n",
    "        cond = ((access_gdf['LISA_P_{0}'.format(i)] <0.05) & \n",
    "                (access_gdf['LISA_CL_{0}'.format(i)]==3))\n",
    "        \n",
    "        hex_low = access_gdf[cond].shape[0]\n",
    "        hex_low_percentage = hex_low/hex_total*100\n",
    "        hex_low_percentage_list.append(hex_low_percentage)\n",
    "    \n",
    "    hex_low_percentage_dict[city] = hex_low_percentage_list\n",
    "    shp_name = city+'.shp'\n",
    "    #access_gdf.to_file(str(DATA_DIR/'LISA'/shp_name))"
   ]
  },
  {
   "cell_type": "code",
   "execution_count": 88,
   "metadata": {},
   "outputs": [
    {
     "data": {
      "text/html": [
       "<div>\n",
       "<style scoped>\n",
       "    .dataframe tbody tr th:only-of-type {\n",
       "        vertical-align: middle;\n",
       "    }\n",
       "\n",
       "    .dataframe tbody tr th {\n",
       "        vertical-align: top;\n",
       "    }\n",
       "\n",
       "    .dataframe thead th {\n",
       "        text-align: right;\n",
       "    }\n",
       "</style>\n",
       "<table border=\"1\" class=\"dataframe\">\n",
       "  <thead>\n",
       "    <tr style=\"text-align: right;\">\n",
       "      <th></th>\n",
       "      <th>Auckland</th>\n",
       "      <th>Brisbane</th>\n",
       "      <th>Perth</th>\n",
       "      <th>Vancouver</th>\n",
       "    </tr>\n",
       "  </thead>\n",
       "  <tbody>\n",
       "    <tr>\n",
       "      <th>0</th>\n",
       "      <td>7.255521</td>\n",
       "      <td>7.715582</td>\n",
       "      <td>11.192661</td>\n",
       "      <td>1.483051</td>\n",
       "    </tr>\n",
       "    <tr>\n",
       "      <th>1</th>\n",
       "      <td>7.255521</td>\n",
       "      <td>7.564297</td>\n",
       "      <td>12.293578</td>\n",
       "      <td>2.118644</td>\n",
       "    </tr>\n",
       "    <tr>\n",
       "      <th>2</th>\n",
       "      <td>7.255521</td>\n",
       "      <td>8.623298</td>\n",
       "      <td>12.110092</td>\n",
       "      <td>1.906780</td>\n",
       "    </tr>\n",
       "    <tr>\n",
       "      <th>3</th>\n",
       "      <td>9.463722</td>\n",
       "      <td>9.984871</td>\n",
       "      <td>12.660550</td>\n",
       "      <td>2.754237</td>\n",
       "    </tr>\n",
       "    <tr>\n",
       "      <th>4</th>\n",
       "      <td>8.517350</td>\n",
       "      <td>11.043873</td>\n",
       "      <td>12.110092</td>\n",
       "      <td>3.601695</td>\n",
       "    </tr>\n",
       "    <tr>\n",
       "      <th>5</th>\n",
       "      <td>9.463722</td>\n",
       "      <td>14.523449</td>\n",
       "      <td>13.211009</td>\n",
       "      <td>4.237288</td>\n",
       "    </tr>\n",
       "    <tr>\n",
       "      <th>6</th>\n",
       "      <td>8.201893</td>\n",
       "      <td>15.885023</td>\n",
       "      <td>12.293578</td>\n",
       "      <td>4.237288</td>\n",
       "    </tr>\n",
       "    <tr>\n",
       "      <th>7</th>\n",
       "      <td>8.517350</td>\n",
       "      <td>16.490166</td>\n",
       "      <td>12.293578</td>\n",
       "      <td>4.661017</td>\n",
       "    </tr>\n",
       "    <tr>\n",
       "      <th>8</th>\n",
       "      <td>7.255521</td>\n",
       "      <td>16.792738</td>\n",
       "      <td>12.844037</td>\n",
       "      <td>4.449153</td>\n",
       "    </tr>\n",
       "  </tbody>\n",
       "</table>\n",
       "</div>"
      ],
      "text/plain": [
       "   Auckland   Brisbane      Perth  Vancouver\n",
       "0  7.255521   7.715582  11.192661   1.483051\n",
       "1  7.255521   7.564297  12.293578   2.118644\n",
       "2  7.255521   8.623298  12.110092   1.906780\n",
       "3  9.463722   9.984871  12.660550   2.754237\n",
       "4  8.517350  11.043873  12.110092   3.601695\n",
       "5  9.463722  14.523449  13.211009   4.237288\n",
       "6  8.201893  15.885023  12.293578   4.237288\n",
       "7  8.517350  16.490166  12.293578   4.661017\n",
       "8  7.255521  16.792738  12.844037   4.449153"
      ]
     },
     "execution_count": 88,
     "metadata": {},
     "output_type": "execute_result"
    }
   ],
   "source": [
    "pd.DataFrame(hex_low_percentage_dict)"
   ]
  },
  {
   "cell_type": "code",
   "execution_count": null,
   "metadata": {},
   "outputs": [],
   "source": []
  }
 ],
 "metadata": {
  "kernelspec": {
   "display_name": "Python 3",
   "language": "python",
   "name": "python3"
  },
  "language_info": {
   "codemirror_mode": {
    "name": "ipython",
    "version": 3
   },
   "file_extension": ".py",
   "mimetype": "text/x-python",
   "name": "python",
   "nbconvert_exporter": "python",
   "pygments_lexer": "ipython3",
   "version": "3.6.2"
  }
 },
 "nbformat": 4,
 "nbformat_minor": 2
}
