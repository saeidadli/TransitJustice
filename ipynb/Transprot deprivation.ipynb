{
 "cells": [
  {
   "cell_type": "code",
   "execution_count": 1,
   "metadata": {},
   "outputs": [],
   "source": [
    "import sys\n",
    "import math\n",
    "from pathlib import Path\n",
    "\n",
    "\n",
    "import statsmodels.formula.api as sm\n",
    "import matplotlib.pyplot as plt\n",
    "import geopandas as gpd\n",
    "import pandas as pd\n",
    "import numpy as np\n",
    "\n",
    "DIR = Path('..')\n",
    "sys.path.append(str(DIR))\n",
    "\n",
    "import arcgdfconvertor as agc\n",
    "\n",
    "DATA_DIR = DIR/'data/'\n",
    "OUT_DIR = DIR/'output/'\n",
    "\n",
    "\n",
    "%load_ext autoreload\n",
    "%autoreload 2"
   ]
  },
  {
   "cell_type": "code",
   "execution_count": 30,
   "metadata": {},
   "outputs": [],
   "source": [
    "cities = [\n",
    "    'Auckland',\n",
    "    'Brisbane',\n",
    "    'Perth',\n",
    "    'Vancouver',\n",
    "]"
   ]
  },
  {
   "cell_type": "code",
   "execution_count": 3,
   "metadata": {},
   "outputs": [],
   "source": [
    "access_pop_percentiles = list()\n",
    "transit_deprived_dict = dict()\n",
    "for city in cities:\n",
    "    #Read CSVs Dist_decay\n",
    "    access_df = pd.read_csv(\n",
    "        DATA_DIR/'OD_Summaries'/\"{0}_Hex_dist_decay_summary.csv\".format(city),\n",
    "        index_col=0, dtype = {'from': str})\n",
    "    census_gdf = agc.fc_to_gdf(\n",
    "        str(DATA_DIR/'Cities.gdb'/'{0}_Hex_Polygon'.format(city)))\n",
    "\n",
    "    cond = (census_gdf['Median_Income'] > 3) & (census_gdf['POP'] > 3) & (census_gdf['POW'] > 3)\n",
    "    census_gdf = census_gdf[cond].copy()\n",
    "\n",
    "    access_gdf = census_gdf.merge(\n",
    "        access_df, \n",
    "        left_on = 'Unique_ID', \n",
    "        right_on = 'from', \n",
    "        how = 'inner')\n",
    "\n",
    "    total_jobs = access_gdf['POW'].sum()\n",
    "    total_pop = access_gdf['POP'].sum()\n",
    "    total_hex = access_gdf.shape[0]\n",
    "\n",
    "    #Calculate transit deprivation\n",
    "    transit_deprived_list = list()\n",
    "    for i in range(20, 65, 5):\n",
    "        access_gdf['dist_decay_{0}'.format(i)] = access_gdf['dist_decay_{0}'.format(i)]/total_jobs*100\n",
    "        \n",
    "        transit_deprived = access_gdf[access_gdf['dist_decay_{0}'.format(i)] <= 1].shape[0]\n",
    "        transit_deprived_percent = transit_deprived/total_hex*100\n",
    "        transit_deprived_list.append(transit_deprived_percent)\n",
    "    \n",
    "    transit_deprived_dict[city] = transit_deprived_list\n",
    "    #agc.gdf_to_fc(access_gdf, str(r'D:\\New Folder (7)\\output.gdb\\WGS84\\{0}'.format(city))) #Check the Brisbane glitch!\n",
    "\n",
    "    #Calculate minimum transit accessibility\n",
    "    for i in range(20, 65, 5):\n",
    "        access_gdf['bins'] = access_gdf['dist_decay_{0}'.format(i)].astype(int)\n",
    "        s = access_gdf.groupby('bins')['POP'].sum()\n",
    "        df = pd.DataFrame(s).reset_index()\n",
    "        df['Percentage'] = df['POP']/total_pop\n",
    "        #df = df.sort_values(by = 'bins', ascending = False)\n",
    "        df['cumsum'] = df.Percentage.cumsum()\n",
    "        df['city'] = city\n",
    "        df['travel_time'] = i\n",
    "        access_pop_percentiles.append(df)\n",
    "min_access_df = pd.concat(access_pop_percentiles)\n",
    "deprivation_df = pd.DataFrame(transit_deprived_dict)\n"
   ]
  },
  {
   "cell_type": "code",
   "execution_count": null,
   "metadata": {},
   "outputs": [],
   "source": []
  }
 ],
 "metadata": {
  "kernelspec": {
   "display_name": "Python 3",
   "language": "python",
   "name": "python3"
  },
  "language_info": {
   "codemirror_mode": {
    "name": "ipython",
    "version": 3
   },
   "file_extension": ".py",
   "mimetype": "text/x-python",
   "name": "python",
   "nbconvert_exporter": "python",
   "pygments_lexer": "ipython3",
   "version": "3.6.2"
  }
 },
 "nbformat": 4,
 "nbformat_minor": 2
}
